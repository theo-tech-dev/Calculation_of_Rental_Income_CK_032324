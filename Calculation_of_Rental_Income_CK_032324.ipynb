{
 "cells": [
  {
   "cell_type": "code",
   "execution_count": 4,
   "id": "42d1e501",
   "metadata": {},
   "outputs": [
    {
     "name": "stdout",
     "output_type": "stream",
     "text": [
      "ROI for the rental property: -33.33%\n"
     ]
    }
   ],
   "source": [
    "# Define a function to calculate ROI for a rental property\n",
    "def calculate_roi(purchase_price, rental_income, operating_expenses, down_payment):\n",
    "    # Calculate annual net income\n",
    "    annual_net_income = rental_income - operating_expenses\n",
    "\n",
    "    # Calculate cash flow\n",
    "    cash_flow = annual_net_income - (purchase_price * down_payment)\n",
    "\n",
    "    # Calculate ROI\n",
    "    roi = (cash_flow / (purchase_price * down_payment)) * 100\n",
    "\n",
    "    return roi\n",
    "\n",
    "# Example usage\n",
    "purchase_price = 300000  # Purchase price of the property\n",
    "rental_income = 3500    # Monthly rental income\n",
    "operating_expenses = 1000  # Monthly operating expenses\n",
    "down_payment = 0.15       # Down payment as a decimal (20%)\n",
    "\n",
    "# Calculate ROI\n",
    "roi = calculate_roi(purchase_price, rental_income * 12, operating_expenses * 12, down_payment)\n",
    "\n",
    "# Print the result\n",
    "print(f\"ROI for the rental property: {roi:.2f}%\")"
   ]
  },
  {
   "cell_type": "code",
   "execution_count": null,
   "id": "888bfe62",
   "metadata": {},
   "outputs": [],
   "source": []
  }
 ],
 "metadata": {
  "kernelspec": {
   "display_name": "Python 3 (ipykernel)",
   "language": "python",
   "name": "python3"
  },
  "language_info": {
   "codemirror_mode": {
    "name": "ipython",
    "version": 3
   },
   "file_extension": ".py",
   "mimetype": "text/x-python",
   "name": "python",
   "nbconvert_exporter": "python",
   "pygments_lexer": "ipython3",
   "version": "3.11.5"
  }
 },
 "nbformat": 4,
 "nbformat_minor": 5
}
